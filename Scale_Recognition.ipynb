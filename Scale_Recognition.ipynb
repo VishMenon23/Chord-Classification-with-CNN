{
  "nbformat": 4,
  "nbformat_minor": 0,
  "metadata": {
    "colab": {
      "provenance": []
    },
    "kernelspec": {
      "name": "python3",
      "display_name": "Python 3"
    },
    "language_info": {
      "name": "python"
    }
  },
  "cells": [
    {
      "cell_type": "code",
      "execution_count": null,
      "metadata": {
        "id": "SgvSstX5BA4z"
      },
      "outputs": [],
      "source": [
        "# Required Imports\n",
        "import pandas as pd\n",
        "import numpy as np\n",
        "import cv2\n",
        "from glob import glob\n",
        "import librosa\n",
        "from google.colab import drive\n",
        "\n",
        "from tensorflow.keras import optimizers, models, layers\n",
        "\n",
        "import tensorflow as tf\n",
        "from tensorflow import keras\n",
        "from tensorflow.keras.models import Sequential\n",
        "from tensorflow.keras.layers import Activation, Dense, Flatten, BatchNormalization, Conv2D, MaxPool2D\n",
        "from tensorflow.keras.optimizers import Adam\n",
        "from tensorflow.keras.metrics import categorical_crossentropy\n",
        "from tensorflow.keras.preprocessing.image import ImageDataGenerator\n",
        "from sklearn.metrics import confusion_matrix\n",
        "import itertools\n",
        "import os\n",
        "import shutil\n",
        "import random\n",
        "import matplotlib.pyplot as plt\n",
        "from random import sample"
      ]
    },
    {
      "cell_type": "code",
      "source": [
        "drive.mount('/content/drive')"
      ],
      "metadata": {
        "colab": {
          "base_uri": "https://localhost:8080/"
        },
        "id": "oX6H1Y0-Bgfb",
        "outputId": "ff1b029b-0137-48bd-97f9-334451b7bf1f"
      },
      "execution_count": null,
      "outputs": [
        {
          "output_type": "stream",
          "name": "stdout",
          "text": [
            "Mounted at /content/drive\n"
          ]
        }
      ]
    },
    {
      "cell_type": "code",
      "source": [
        "folder_path = '/content/drive/MyDrive/Chords'"
      ],
      "metadata": {
        "id": "CK-zJLGLBjKk"
      },
      "execution_count": null,
      "outputs": []
    },
    {
      "cell_type": "code",
      "source": [
        "y, sr = librosa.load('/content/drive/MyDrive/Chords/Major/Major_5.wav')"
      ],
      "metadata": {
        "id": "-1PLzX37Bj31"
      },
      "execution_count": null,
      "outputs": []
    },
    {
      "cell_type": "code",
      "source": [
        "Path_for_Major_Spectogram = '/content/drive/MyDrive/Image_Folder/Major'"
      ],
      "metadata": {
        "id": "H1S6CYe3BqGQ"
      },
      "execution_count": null,
      "outputs": []
    },
    {
      "cell_type": "code",
      "source": [
        "# Converting Audio files for Major chords into Spectograms\n",
        "MajorAudioFiles = glob('/content/drive/MyDrive/Chords/Major/*.wav')\n",
        "for file in MajorAudioFiles:\n",
        "  y, sr = librosa.load(file)\n",
        "  D = librosa.stft(y)\n",
        "  S_db = librosa.amplitude_to_db(np.abs(D), ref = np.max)\n",
        "  ImageAudio = (S_db * 255).astype(np.uint8)\n",
        "  idx = file.rfind(\"/\")\n",
        "  filename = file[idx+1:]\n",
        "  cv2.imwrite(Path_for_Major_Spectogram+\"/\"+filename+\".png\",ImageAudio)"
      ],
      "metadata": {
        "id": "HTS8v0xgBxkp"
      },
      "execution_count": null,
      "outputs": []
    },
    {
      "cell_type": "code",
      "source": [
        "Path_for_Minor_Spectogram = '/content/drive/MyDrive/Image_Folder/Minor'"
      ],
      "metadata": {
        "id": "yNF3usBRB0bN"
      },
      "execution_count": null,
      "outputs": []
    },
    {
      "cell_type": "code",
      "source": [
        "# Converting Audio files for Minor chords into Spectograms\n",
        "MinorAudioFiles = glob('/content/drive/MyDrive/Chords/Minor/*.wav')\n",
        "for file in MinorAudioFiles:\n",
        "  y, sr = librosa.load(file)\n",
        "  D = librosa.stft(y)\n",
        "  S_db = librosa.amplitude_to_db(np.abs(D), ref = np.max)\n",
        "  ImageAudio = (S_db * 255).astype(np.uint8)\n",
        "  idx = file.rfind(\"/\")\n",
        "  filename = file[idx+1:]\n",
        "  cv2.imwrite(Path_for_Minor_Spectogram+\"/\"+filename+\".png\",ImageAudio)"
      ],
      "metadata": {
        "id": "D4zyc5JfB3PZ"
      },
      "execution_count": null,
      "outputs": []
    },
    {
      "cell_type": "code",
      "source": [
        "# For moving into train, test and valid\n",
        "\n",
        "# Define the paths\n",
        "base_path = '/content/drive/My Drive/Image_Folder'\n",
        "major_path = os.path.join(base_path, 'Major')\n",
        "minor_path = os.path.join(base_path, 'Minor')\n",
        "destination_base_path = '/content/drive/My Drive/Image_Folder'\n",
        "\n",
        "# Create train, valid, test folders and their subfolders\n",
        "for subset in ['train', 'valid', 'test']:\n",
        "    for category in ['Major', 'Minor']:\n",
        "        folder_path = os.path.join(destination_base_path, subset, category)\n",
        "        if not os.path.exists(folder_path):\n",
        "            os.makedirs(folder_path)\n",
        "\n",
        "# Function to move a specific number of files\n",
        "def move_files(src_folder, dest_folder, num_files):\n",
        "    all_files = [f for f in os.listdir(src_folder) if os.path.isfile(os.path.join(src_folder, f))]\n",
        "    selected_files = sample(all_files, num_files)\n",
        "    for filename in selected_files:\n",
        "        src_file = os.path.join(src_folder, filename)\n",
        "        dest_file = os.path.join(dest_folder, filename)\n",
        "        shutil.move(src_file, dest_file)\n",
        "\n",
        "# Move files from Major\n",
        "move_files(major_path, os.path.join(destination_base_path, 'train', 'Major'), 200)\n",
        "move_files(major_path, os.path.join(destination_base_path, 'valid', 'Major'), 50)\n",
        "move_files(major_path, os.path.join(destination_base_path, 'test', 'Major'), 10)\n",
        "\n",
        "# Move files from Minor\n",
        "move_files(minor_path, os.path.join(destination_base_path, 'train', 'Minor'), 200)\n",
        "move_files(minor_path, os.path.join(destination_base_path, 'valid', 'Minor'), 50)\n",
        "move_files(minor_path, os.path.join(destination_base_path, 'test', 'Minor'), 10)"
      ],
      "metadata": {
        "id": "aUKBhoe7B5B_"
      },
      "execution_count": null,
      "outputs": []
    },
    {
      "cell_type": "code",
      "source": [
        "# Define paths\n",
        "train_path = '/content/drive/My Drive/Image_Folder/train'\n",
        "valid_path = '/content/drive/My Drive/Image_Folder/valid'\n",
        "test_path = '/content/drive/My Drive/Image_Folder/test'\n",
        "\n",
        "# Create the data generators\n",
        "train_batches = ImageDataGenerator(preprocessing_function=tf.keras.applications.vgg16.preprocess_input) \\\n",
        "    .flow_from_directory(directory=train_path, target_size=(224,224), classes=['Major', 'Minor'], batch_size=10)\n",
        "valid_batches = ImageDataGenerator(preprocessing_function=tf.keras.applications.vgg16.preprocess_input) \\\n",
        "    .flow_from_directory(directory=valid_path, target_size=(224,224), classes=['Major', 'Minor'], batch_size=10)\n",
        "test_batches = ImageDataGenerator(preprocessing_function=tf.keras.applications.vgg16.preprocess_input) \\\n",
        "    .flow_from_directory(directory=test_path, target_size=(224,224), classes=['Major', 'Minor'], batch_size=10, shuffle=False)\n",
        "\n",
        "print(f'Found {train_batches.samples} training images belonging to {train_batches.num_classes} classes.')\n",
        "print(f'Found {valid_batches.samples} validation images belonging to {valid_batches.num_classes} classes.')\n",
        "print(f'Found {test_batches.samples} test images belonging to {test_batches.num_classes} classes.')\n",
        "\n",
        "# Model Definition\n",
        "model = Sequential([\n",
        "    Conv2D(filters=32, kernel_size=(3, 3), activation='relu', padding='same', input_shape=(224, 224, 3)),\n",
        "    MaxPool2D(pool_size=(2, 2), strides=2),\n",
        "    Conv2D(filters=64, kernel_size=(3, 3), activation='relu', padding='same'),\n",
        "    MaxPool2D(pool_size=(2, 2), strides=2),\n",
        "    Flatten(),\n",
        "    Dense(units=2, activation='softmax')\n",
        "])\n",
        "\n",
        "model.compile(optimizer=Adam(learning_rate=0.0001), loss='categorical_crossentropy', metrics=['accuracy'])\n",
        "\n",
        "# Calculate steps_per_epoch and validation_steps\n",
        "steps_per_epoch = train_batches.samples // train_batches.batch_size\n",
        "validation_steps = valid_batches.samples // valid_batches.batch_size\n",
        "\n",
        "print(f'Steps per epoch: {steps_per_epoch}')\n",
        "print(f'Validation steps: {validation_steps}')\n",
        "\n",
        "# Adding .repeat() to ensure data generator does not run out of data\n",
        "train_dataset = tf.data.Dataset.from_generator(\n",
        "    lambda: train_batches,\n",
        "    output_signature=(\n",
        "        tf.TensorSpec(shape=(None, 224, 224, 3), dtype=tf.float32),\n",
        "        tf.TensorSpec(shape=(None, 2), dtype=tf.float32)\n",
        "    )\n",
        ").repeat()\n",
        "\n",
        "valid_dataset = tf.data.Dataset.from_generator(\n",
        "    lambda: valid_batches,\n",
        "    output_signature=(\n",
        "        tf.TensorSpec(shape=(None, 224, 224, 3), dtype=tf.float32),\n",
        "        tf.TensorSpec(shape=(None, 2), dtype=tf.float32)\n",
        "    )\n",
        ").repeat()\n",
        "\n",
        "# Train the model using the dataset\n",
        "model.fit(\n",
        "    train_dataset,\n",
        "    steps_per_epoch=steps_per_epoch,\n",
        "    validation_data=valid_dataset,\n",
        "    validation_steps=validation_steps,\n",
        "    epochs=10,\n",
        "    verbose=2\n",
        ")\n"
      ],
      "metadata": {
        "colab": {
          "base_uri": "https://localhost:8080/"
        },
        "id": "hADYOtirCOQD",
        "outputId": "9dac03e6-b72d-48ee-c00b-f5e6924a6eac"
      },
      "execution_count": null,
      "outputs": [
        {
          "output_type": "stream",
          "name": "stdout",
          "text": [
            "Found 400 images belonging to 2 classes.\n",
            "Found 100 images belonging to 2 classes.\n",
            "Found 20 images belonging to 2 classes.\n",
            "Found 400 training images belonging to 2 classes.\n",
            "Found 100 validation images belonging to 2 classes.\n",
            "Found 20 test images belonging to 2 classes.\n",
            "Steps per epoch: 40\n",
            "Validation steps: 10\n"
          ]
        },
        {
          "output_type": "stream",
          "name": "stderr",
          "text": [
            "/usr/local/lib/python3.10/dist-packages/keras/src/layers/convolutional/base_conv.py:107: UserWarning: Do not pass an `input_shape`/`input_dim` argument to a layer. When using Sequential models, prefer using an `Input(shape)` object as the first layer in the model instead.\n",
            "  super().__init__(activity_regularizer=activity_regularizer, **kwargs)\n"
          ]
        },
        {
          "output_type": "stream",
          "name": "stdout",
          "text": [
            "Epoch 1/10\n",
            "40/40 - 92s - 2s/step - accuracy: 0.4650 - loss: 38.6968 - val_accuracy: 0.5400 - val_loss: 18.9158\n",
            "Epoch 2/10\n",
            "40/40 - 36s - 907ms/step - accuracy: 0.7575 - loss: 3.5347 - val_accuracy: 0.5900 - val_loss: 5.7851\n",
            "Epoch 3/10\n",
            "40/40 - 36s - 906ms/step - accuracy: 0.8700 - loss: 1.3046 - val_accuracy: 0.5800 - val_loss: 5.0656\n",
            "Epoch 4/10\n",
            "40/40 - 38s - 959ms/step - accuracy: 0.9575 - loss: 0.2459 - val_accuracy: 0.5500 - val_loss: 5.9770\n",
            "Epoch 5/10\n",
            "40/40 - 38s - 961ms/step - accuracy: 0.9700 - loss: 0.2034 - val_accuracy: 0.5300 - val_loss: 5.8590\n",
            "Epoch 6/10\n",
            "40/40 - 37s - 917ms/step - accuracy: 0.9900 - loss: 0.0590 - val_accuracy: 0.5800 - val_loss: 6.1860\n",
            "Epoch 7/10\n",
            "40/40 - 37s - 928ms/step - accuracy: 0.9875 - loss: 0.0737 - val_accuracy: 0.5200 - val_loss: 5.8688\n",
            "Epoch 8/10\n",
            "40/40 - 39s - 963ms/step - accuracy: 0.9925 - loss: 0.0781 - val_accuracy: 0.5600 - val_loss: 6.3764\n",
            "Epoch 9/10\n",
            "40/40 - 37s - 917ms/step - accuracy: 0.9750 - loss: 0.1525 - val_accuracy: 0.5500 - val_loss: 5.0734\n",
            "Epoch 10/10\n",
            "40/40 - 42s - 1s/step - accuracy: 0.9925 - loss: 0.0469 - val_accuracy: 0.6000 - val_loss: 9.2013\n"
          ]
        },
        {
          "output_type": "execute_result",
          "data": {
            "text/plain": [
              "<keras.src.callbacks.history.History at 0x783caa975ea0>"
            ]
          },
          "metadata": {},
          "execution_count": 6
        }
      ]
    },
    {
      "cell_type": "code",
      "source": [
        "model.save('Major_Minor.keras')"
      ],
      "metadata": {
        "id": "-1O3m9t0Ceyp"
      },
      "execution_count": null,
      "outputs": []
    },
    {
      "cell_type": "code",
      "source": [
        "predictions = model.predict(x=test_batches, steps=len(test_batches), verbose=0)\n",
        "np.round(predictions)"
      ],
      "metadata": {
        "colab": {
          "base_uri": "https://localhost:8080/"
        },
        "id": "Fe-ZcPxQCiaa",
        "outputId": "8cfe0abc-e7c7-4541-fced-2f192c700bef"
      },
      "execution_count": null,
      "outputs": [
        {
          "output_type": "stream",
          "name": "stderr",
          "text": [
            "/usr/local/lib/python3.10/dist-packages/keras/src/trainers/data_adapters/py_dataset_adapter.py:121: UserWarning: Your `PyDataset` class should call `super().__init__(**kwargs)` in its constructor. `**kwargs` can include `workers`, `use_multiprocessing`, `max_queue_size`. Do not pass these arguments to `fit()`, as they will be ignored.\n",
            "  self._warn_if_super_not_called()\n"
          ]
        },
        {
          "output_type": "execute_result",
          "data": {
            "text/plain": [
              "array([[1., 0.],\n",
              "       [0., 1.],\n",
              "       [1., 0.],\n",
              "       [0., 1.],\n",
              "       [0., 1.],\n",
              "       [0., 1.],\n",
              "       [0., 1.],\n",
              "       [0., 1.],\n",
              "       [1., 0.],\n",
              "       [1., 0.],\n",
              "       [1., 0.],\n",
              "       [0., 1.],\n",
              "       [0., 1.],\n",
              "       [0., 1.],\n",
              "       [0., 1.],\n",
              "       [0., 1.],\n",
              "       [0., 1.],\n",
              "       [0., 1.],\n",
              "       [0., 1.],\n",
              "       [0., 1.]], dtype=float32)"
            ]
          },
          "metadata": {},
          "execution_count": 8
        }
      ]
    },
    {
      "cell_type": "code",
      "source": [
        "cm = confusion_matrix(y_true=test_batches.classes, y_pred=np.argmax(predictions, axis=-1))"
      ],
      "metadata": {
        "id": "ceqo0ZceCmxk"
      },
      "execution_count": null,
      "outputs": []
    },
    {
      "cell_type": "code",
      "source": [
        "test_batches.class_indices"
      ],
      "metadata": {
        "colab": {
          "base_uri": "https://localhost:8080/"
        },
        "id": "AXjKBbEECpV5",
        "outputId": "336be609-b70a-4b6f-d6a0-545ae4198d41"
      },
      "execution_count": null,
      "outputs": [
        {
          "output_type": "execute_result",
          "data": {
            "text/plain": [
              "{'Major': 0, 'Minor': 1}"
            ]
          },
          "metadata": {},
          "execution_count": 10
        }
      ]
    },
    {
      "cell_type": "code",
      "source": [
        "# plot_confusion_matrix() function from sklearn\n",
        "def plot_confusion_matrix(cm, classes,\n",
        "                          normalize=False,\n",
        "                          title='Confusion matrix',\n",
        "                          cmap=plt.cm.Blues):\n",
        "    \"\"\"\n",
        "    This function prints and plots the confusion matrix.\n",
        "    Normalization can be applied by setting `normalize=True`.\n",
        "    \"\"\"\n",
        "    plt.imshow(cm, interpolation='nearest', cmap=cmap)\n",
        "    plt.title(title)\n",
        "    plt.colorbar()\n",
        "    tick_marks = np.arange(len(classes))\n",
        "    plt.xticks(tick_marks, classes, rotation=45)\n",
        "    plt.yticks(tick_marks, classes)\n",
        "\n",
        "    if normalize:\n",
        "        cm = cm.astype('float') / cm.sum(axis=1)[:, np.newaxis]\n",
        "        print(\"Normalized confusion matrix\")\n",
        "    else:\n",
        "        print('Confusion matrix, without normalization')\n",
        "\n",
        "    print(cm)\n",
        "\n",
        "    thresh = cm.max() / 2.\n",
        "    for i, j in itertools.product(range(cm.shape[0]), range(cm.shape[1])):\n",
        "        plt.text(j, i, cm[i, j],\n",
        "            horizontalalignment=\"center\",\n",
        "            color=\"white\" if cm[i, j] > thresh else \"black\")\n",
        "\n",
        "    plt.tight_layout()\n",
        "    plt.ylabel('True label')\n",
        "    plt.xlabel('Predicted label')"
      ],
      "metadata": {
        "id": "bDroF9vtCrmK"
      },
      "execution_count": null,
      "outputs": []
    },
    {
      "cell_type": "code",
      "source": [
        "cm_plot_labels = ['Major','Minor']\n",
        "plot_confusion_matrix(cm=cm, classes=cm_plot_labels, title='Confusion Matrix')\n"
      ],
      "metadata": {
        "colab": {
          "base_uri": "https://localhost:8080/",
          "height": 560
        },
        "id": "Q7AjYHrnCtuG",
        "outputId": "28ac3421-6b3d-48c4-d80b-94c5074e5237"
      },
      "execution_count": null,
      "outputs": [
        {
          "output_type": "stream",
          "name": "stdout",
          "text": [
            "Confusion matrix, without normalization\n",
            "[[4 6]\n",
            " [1 9]]\n"
          ]
        },
        {
          "output_type": "display_data",
          "data": {
            "text/plain": [
              "<Figure size 640x480 with 2 Axes>"
            ],
            "image/png": "[encoded data removed]"
          },
          "metadata": {}
        }
      ]
    }
  ]
}